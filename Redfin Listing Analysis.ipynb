{
 "cells": [
  {
   "cell_type": "code",
   "execution_count": null,
   "id": "09d10b1c-2d38-4e8f-9cab-e8f982d88477",
   "metadata": {},
   "outputs": [],
   "source": []
  },
  {
   "cell_type": "markdown",
   "id": "1c5d48f5-c058-4130-b46b-e6104c6a0ed8",
   "metadata": {},
   "source": [
    "# Objective\n",
    "### This project aims to forecast housing prices in Chandler, Arizona, using Redfin.com listings for single-family homes only.\n",
    "\n",
    "#### The analysis focuses on four key use cases:\n",
    "\n",
    "Investor Opportunity Analysis\n",
    "\n",
    "Pricing Strategies for Sellers\n",
    "\n",
    "Value Zones for Potential Buyers\n",
    "\n",
    "Strategic Housing Acquisition: Identifying undervalued single-family homes in Chandler\n",
    "\n",
    "Note: School districts—an important driver of real estate pricing—were excluded from this analysis due to data limitations.\n"
   ]
  },
  {
   "cell_type": "code",
   "execution_count": 36,
   "id": "ce3c3492-2924-4355-9bce-bc71b0263f54",
   "metadata": {
    "tags": []
   },
   "outputs": [],
   "source": [
    "import pandas as pd\n",
    "import numpy as np\n",
    "import os\n",
    "import sklearn \n",
    "from sklearn.linear_model import LinearRegression\n",
    "import matplotlib.pyplot as plt\n",
    "import seaborn as sns"
   ]
  },
  {
   "cell_type": "code",
   "execution_count": 37,
   "id": "6fb557ea-53f4-4595-b7cf-90ef8fcd3d4a",
   "metadata": {
    "tags": []
   },
   "outputs": [],
   "source": [
    "df = pd.read_csv(\"Chandler_listing.csv\")"
   ]
  },
  {
   "cell_type": "markdown",
   "id": "eb5eb8de-e397-41c8-8d6e-a74e539b4fa6",
   "metadata": {},
   "source": [
    "# Data Cleaning"
   ]
  },
  {
   "cell_type": "code",
   "execution_count": 38,
   "id": "47a7fbfa-e866-4e1e-b8aa-70ff46fea0c3",
   "metadata": {
    "tags": []
   },
   "outputs": [
    {
     "data": {
      "text/html": [
       "<div>\n",
       "<style scoped>\n",
       "    .dataframe tbody tr th:only-of-type {\n",
       "        vertical-align: middle;\n",
       "    }\n",
       "\n",
       "    .dataframe tbody tr th {\n",
       "        vertical-align: top;\n",
       "    }\n",
       "\n",
       "    .dataframe thead th {\n",
       "        text-align: right;\n",
       "    }\n",
       "</style>\n",
       "<table border=\"1\" class=\"dataframe\">\n",
       "  <thead>\n",
       "    <tr style=\"text-align: right;\">\n",
       "      <th></th>\n",
       "      <th>name</th>\n",
       "      <th>price</th>\n",
       "      <th>url</th>\n",
       "      <th>beds</th>\n",
       "      <th>baths</th>\n",
       "      <th>sqft</th>\n",
       "      <th>year_built</th>\n",
       "      <th>hoa</th>\n",
       "    </tr>\n",
       "  </thead>\n",
       "  <tbody>\n",
       "    <tr>\n",
       "      <th>1</th>\n",
       "      <td>1335 W Straford Dr, Chandler, AZ 85224</td>\n",
       "      <td>474900</td>\n",
       "      <td>https://www.redfin.com/AZ/Chandler/1335-W-Stra...</td>\n",
       "      <td>4 beds</td>\n",
       "      <td>2.5 baths</td>\n",
       "      <td>1548 sq. ft.</td>\n",
       "      <td>1985.00</td>\n",
       "      <td>$48/mo</td>\n",
       "    </tr>\n",
       "    <tr>\n",
       "      <th>2</th>\n",
       "      <td>1831 W Armstrong Way, Chandler, AZ 85286</td>\n",
       "      <td>725000</td>\n",
       "      <td>https://www.redfin.com/AZ/Chandler/1831-W-Arms...</td>\n",
       "      <td>4 beds</td>\n",
       "      <td>3 baths</td>\n",
       "      <td>2747 sq. ft.</td>\n",
       "      <td>1997.00</td>\n",
       "      <td>$47/mo</td>\n",
       "    </tr>\n",
       "    <tr>\n",
       "      <th>4</th>\n",
       "      <td>3821 W Barcelona Dr, Chandler, AZ 85226</td>\n",
       "      <td>599900</td>\n",
       "      <td>https://www.redfin.com/AZ/Chandler/3821-W-Barc...</td>\n",
       "      <td>3 beds</td>\n",
       "      <td>2.5 baths</td>\n",
       "      <td>2000 sq. ft.</td>\n",
       "      <td>1993.00</td>\n",
       "      <td>$27/mo</td>\n",
       "    </tr>\n",
       "    <tr>\n",
       "      <th>5</th>\n",
       "      <td>708 N Country Club Way, Chandler, AZ 85226</td>\n",
       "      <td>434999</td>\n",
       "      <td>https://www.redfin.com/AZ/Chandler/708-N-Count...</td>\n",
       "      <td>3 beds</td>\n",
       "      <td>2 baths</td>\n",
       "      <td>1554 sq. ft.</td>\n",
       "      <td>1986.00</td>\n",
       "      <td>$28/mo</td>\n",
       "    </tr>\n",
       "    <tr>\n",
       "      <th>6</th>\n",
       "      <td>4566 E LA Costa Dr, Chandler, AZ 85249</td>\n",
       "      <td>525000</td>\n",
       "      <td>https://www.redfin.com/AZ/Chandler/4566-E-La-C...</td>\n",
       "      <td>3 beds</td>\n",
       "      <td>2 baths</td>\n",
       "      <td>2309 sq. ft.</td>\n",
       "      <td>2002.00</td>\n",
       "      <td>$65/mo</td>\n",
       "    </tr>\n",
       "    <tr>\n",
       "      <th>...</th>\n",
       "      <td>...</td>\n",
       "      <td>...</td>\n",
       "      <td>...</td>\n",
       "      <td>...</td>\n",
       "      <td>...</td>\n",
       "      <td>...</td>\n",
       "      <td>...</td>\n",
       "      <td>...</td>\n",
       "    </tr>\n",
       "    <tr>\n",
       "      <th>2126</th>\n",
       "      <td>1890 E Sagittarius Pl, Chandler, AZ 85249</td>\n",
       "      <td>1549000</td>\n",
       "      <td>https://www.redfin.com/AZ/Chandler/1890-E-Sagi...</td>\n",
       "      <td>6 beds</td>\n",
       "      <td>4.5 baths</td>\n",
       "      <td>5236 sq. ft.</td>\n",
       "      <td>2004.00</td>\n",
       "      <td>$49/mo</td>\n",
       "    </tr>\n",
       "    <tr>\n",
       "      <th>2127</th>\n",
       "      <td>2893 E Cherry Hills Dr, Chandler, AZ 85249</td>\n",
       "      <td>429000</td>\n",
       "      <td>https://www.redfin.com/AZ/Chandler/2893-E-Cher...</td>\n",
       "      <td>3 beds</td>\n",
       "      <td>2.5 baths</td>\n",
       "      <td>1837 sq. ft.</td>\n",
       "      <td>2002.00</td>\n",
       "      <td>$36/mo</td>\n",
       "    </tr>\n",
       "    <tr>\n",
       "      <th>2128</th>\n",
       "      <td>16235 S 39th Pl, Phoenix, AZ 85048</td>\n",
       "      <td>570000</td>\n",
       "      <td>https://www.redfin.com/AZ/Phoenix/16235-S-39th...</td>\n",
       "      <td>3 beds</td>\n",
       "      <td>2 baths</td>\n",
       "      <td>1832 sq. ft.</td>\n",
       "      <td>1988.00</td>\n",
       "      <td>$36/mo</td>\n",
       "    </tr>\n",
       "    <tr>\n",
       "      <th>2130</th>\n",
       "      <td>5215 W Del Rio St, Chandler, AZ 85226</td>\n",
       "      <td>799999</td>\n",
       "      <td>https://www.redfin.com/AZ/Chandler/5215-W-Del-...</td>\n",
       "      <td>5 beds</td>\n",
       "      <td>3.5 baths</td>\n",
       "      <td>3175 sq. ft.</td>\n",
       "      <td>1993.00</td>\n",
       "      <td>$62/mo</td>\n",
       "    </tr>\n",
       "    <tr>\n",
       "      <th>2131</th>\n",
       "      <td>5031 W Ivanhoe St, Chandler, AZ 85226</td>\n",
       "      <td>670000</td>\n",
       "      <td>https://www.redfin.com/AZ/Chandler/5031-W-Ivan...</td>\n",
       "      <td>4 beds</td>\n",
       "      <td>2 baths</td>\n",
       "      <td>2107 sq. ft.</td>\n",
       "      <td>1995.00</td>\n",
       "      <td>$62/mo</td>\n",
       "    </tr>\n",
       "  </tbody>\n",
       "</table>\n",
       "<p>1649 rows × 8 columns</p>\n",
       "</div>"
      ],
      "text/plain": [
       "                                            name    price  \\\n",
       "1         1335 W Straford Dr, Chandler, AZ 85224   474900   \n",
       "2       1831 W Armstrong Way, Chandler, AZ 85286   725000   \n",
       "4        3821 W Barcelona Dr, Chandler, AZ 85226   599900   \n",
       "5     708 N Country Club Way, Chandler, AZ 85226   434999   \n",
       "6         4566 E LA Costa Dr, Chandler, AZ 85249   525000   \n",
       "...                                          ...      ...   \n",
       "2126   1890 E Sagittarius Pl, Chandler, AZ 85249  1549000   \n",
       "2127  2893 E Cherry Hills Dr, Chandler, AZ 85249   429000   \n",
       "2128          16235 S 39th Pl, Phoenix, AZ 85048   570000   \n",
       "2130       5215 W Del Rio St, Chandler, AZ 85226   799999   \n",
       "2131       5031 W Ivanhoe St, Chandler, AZ 85226   670000   \n",
       "\n",
       "                                                    url    beds      baths  \\\n",
       "1     https://www.redfin.com/AZ/Chandler/1335-W-Stra...  4 beds  2.5 baths   \n",
       "2     https://www.redfin.com/AZ/Chandler/1831-W-Arms...  4 beds    3 baths   \n",
       "4     https://www.redfin.com/AZ/Chandler/3821-W-Barc...  3 beds  2.5 baths   \n",
       "5     https://www.redfin.com/AZ/Chandler/708-N-Count...  3 beds    2 baths   \n",
       "6     https://www.redfin.com/AZ/Chandler/4566-E-La-C...  3 beds    2 baths   \n",
       "...                                                 ...     ...        ...   \n",
       "2126  https://www.redfin.com/AZ/Chandler/1890-E-Sagi...  6 beds  4.5 baths   \n",
       "2127  https://www.redfin.com/AZ/Chandler/2893-E-Cher...  3 beds  2.5 baths   \n",
       "2128  https://www.redfin.com/AZ/Phoenix/16235-S-39th...  3 beds    2 baths   \n",
       "2130  https://www.redfin.com/AZ/Chandler/5215-W-Del-...  5 beds  3.5 baths   \n",
       "2131  https://www.redfin.com/AZ/Chandler/5031-W-Ivan...  4 beds    2 baths   \n",
       "\n",
       "              sqft  year_built     hoa  \n",
       "1     1548 sq. ft.     1985.00  $48/mo  \n",
       "2     2747 sq. ft.     1997.00  $47/mo  \n",
       "4     2000 sq. ft.     1993.00  $27/mo  \n",
       "5     1554 sq. ft.     1986.00  $28/mo  \n",
       "6     2309 sq. ft.     2002.00  $65/mo  \n",
       "...            ...         ...     ...  \n",
       "2126  5236 sq. ft.     2004.00  $49/mo  \n",
       "2127  1837 sq. ft.     2002.00  $36/mo  \n",
       "2128  1832 sq. ft.     1988.00  $36/mo  \n",
       "2130  3175 sq. ft.     1993.00  $62/mo  \n",
       "2131  2107 sq. ft.     1995.00  $62/mo  \n",
       "\n",
       "[1649 rows x 8 columns]"
      ]
     },
     "execution_count": 38,
     "metadata": {},
     "output_type": "execute_result"
    }
   ],
   "source": [
    "df.dropna()"
   ]
  },
  {
   "cell_type": "code",
   "execution_count": 39,
   "id": "496e5288-e4f7-49e1-8897-a6265d873160",
   "metadata": {
    "tags": []
   },
   "outputs": [],
   "source": [
    "df.rename(columns = {'name': 'address'}, inplace=True)"
   ]
  },
  {
   "cell_type": "code",
   "execution_count": 40,
   "id": "dfb52c09-2fff-47aa-9bac-3e19a35d8d9a",
   "metadata": {
    "tags": []
   },
   "outputs": [
    {
     "data": {
      "text/plain": [
       "Index(['address', 'price', 'url', 'beds', 'baths', 'sqft', 'year_built',\n",
       "       'hoa'],\n",
       "      dtype='object')"
      ]
     },
     "execution_count": 40,
     "metadata": {},
     "output_type": "execute_result"
    }
   ],
   "source": [
    "df.columns"
   ]
  },
  {
   "cell_type": "code",
   "execution_count": 41,
   "id": "c982e231-a14d-4943-8226-76a1f4ce9b16",
   "metadata": {},
   "outputs": [],
   "source": [
    "# Clean sqft, beds, baths, and hoa columns\n",
    "# Clean the 'sqft' column: remove commas, extract digits, convert to float\n",
    "df['sqft'] = df['sqft'].astype(str)\n",
    "df['sqft'] = df['sqft'].str.replace(',', '', regex=False)\n",
    "df['sqft'] = df['sqft'].str.extract(r'(\\d+)')[0]\n",
    "df['sqft'] = df['sqft'].astype(float)\n",
    "\n",
    "# Clean the 'beds' column: extract number (with or without decimals), convert to float\n",
    "df['beds'] = df['beds'].astype(str)\n",
    "df['beds'] = df['beds'].str.extract(r'(\\d+\\.?\\d*)')[0]\n",
    "df['beds'] = df['beds'].astype(float)\n",
    "\n",
    "# Clean the 'baths' column: extract number (with or without decimals), convert to float\n",
    "df['baths'] = df['baths'].astype(str)\n",
    "df['baths'] = df['baths'].str.extract(r'(\\d+\\.?\\d*)')[0]\n",
    "df['baths'] = df['baths'].astype(float)\n",
    "\n",
    "# Clean the 'hoa' column: remove '$' and '/mo' symbols, convert to float, fill missing with 0\n",
    "df['hoa'] = df['hoa'].astype(str)\n",
    "df['hoa'] = df['hoa'].str.replace('$', '', regex=False)\n",
    "df['hoa'] = df['hoa'].str.replace('/mo', '', regex=False)\n",
    "df['hoa'] = df['hoa'].astype(float)\n",
    "df['hoa'] = df['hoa'].fillna(0)\n"
   ]
  },
  {
   "cell_type": "code",
   "execution_count": 42,
   "id": "537192c4-4121-42f9-98b4-a18aa2510224",
   "metadata": {},
   "outputs": [],
   "source": [
    "# Create a new column for price per square foot\n",
    "df['price_per_sqft'] = df['price'] / df['sqft']"
   ]
  },
  {
   "cell_type": "code",
   "execution_count": 43,
   "id": "88501dbb-c3be-4b90-ae2b-7a28086b55b1",
   "metadata": {
    "tags": []
   },
   "outputs": [],
   "source": [
    "# Extract 5-digit ZIP code from the address\n",
    "df['zip'] = df['address'].str.extract(r'(\\d{5})')\n"
   ]
  },
  {
   "cell_type": "code",
   "execution_count": 44,
   "id": "19651c64-5c44-4eea-ac8f-744e02904169",
   "metadata": {
    "tags": []
   },
   "outputs": [
    {
     "data": {
      "text/plain": [
       "address            0\n",
       "price              0\n",
       "url                0\n",
       "beds               0\n",
       "baths              0\n",
       "sqft               0\n",
       "year_built        14\n",
       "hoa                0\n",
       "price_per_sqft     0\n",
       "zip                0\n",
       "dtype: int64"
      ]
     },
     "execution_count": 44,
     "metadata": {},
     "output_type": "execute_result"
    }
   ],
   "source": [
    "# See how many missing values per column\n",
    "df.isnull().sum()"
   ]
  },
  {
   "cell_type": "code",
   "execution_count": 45,
   "id": "e2f42566-4439-4bb5-9e84-497ca9bd963b",
   "metadata": {
    "tags": []
   },
   "outputs": [],
   "source": [
    "# Drop rows with missing year_built\n",
    "df = df[df['year_built'].notnull()]\n",
    "\n",
    "# Fill missing HOA values with 0 (no HOA fee)\n",
    "df['hoa'] = df['hoa'].fillna(0)"
   ]
  },
  {
   "cell_type": "code",
   "execution_count": 46,
   "id": "91a628ab-2f4d-44e4-b907-1459be939b10",
   "metadata": {
    "tags": []
   },
   "outputs": [
    {
     "data": {
      "text/plain": [
       "address           0\n",
       "price             0\n",
       "url               0\n",
       "beds              0\n",
       "baths             0\n",
       "sqft              0\n",
       "year_built        0\n",
       "hoa               0\n",
       "price_per_sqft    0\n",
       "zip               0\n",
       "dtype: int64"
      ]
     },
     "execution_count": 46,
     "metadata": {},
     "output_type": "execute_result"
    }
   ],
   "source": [
    "df.isnull().sum()"
   ]
  },
  {
   "cell_type": "code",
   "execution_count": 47,
   "id": "af425670-496b-42cd-b316-46963b80bd6f",
   "metadata": {
    "tags": []
   },
   "outputs": [
    {
     "name": "stdout",
     "output_type": "stream",
     "text": [
      "<class 'pandas.core.frame.DataFrame'>\n",
      "Index: 2118 entries, 0 to 2131\n",
      "Data columns (total 10 columns):\n",
      " #   Column          Non-Null Count  Dtype  \n",
      "---  ------          --------------  -----  \n",
      " 0   address         2118 non-null   object \n",
      " 1   price           2118 non-null   int64  \n",
      " 2   url             2118 non-null   object \n",
      " 3   beds            2118 non-null   float64\n",
      " 4   baths           2118 non-null   float64\n",
      " 5   sqft            2118 non-null   float64\n",
      " 6   year_built      2118 non-null   float64\n",
      " 7   hoa             2118 non-null   float64\n",
      " 8   price_per_sqft  2118 non-null   float64\n",
      " 9   zip             2118 non-null   object \n",
      "dtypes: float64(6), int64(1), object(3)\n",
      "memory usage: 182.0+ KB\n"
     ]
    }
   ],
   "source": [
    "df.info()"
   ]
  },
  {
   "cell_type": "markdown",
   "id": "2e077faf-35c2-46d7-8975-6341752090f0",
   "metadata": {
    "tags": []
   },
   "source": [
    "# Home Price Distribution EDA"
   ]
  },
  {
   "cell_type": "code",
   "execution_count": 48,
   "id": "f802a27b-5f77-4c15-89ce-ca1d60cbca91",
   "metadata": {
    "tags": []
   },
   "outputs": [
    {
     "name": "stderr",
     "output_type": "stream",
     "text": [
      "/Users/henrylu/anaconda3/lib/python3.11/site-packages/seaborn/_oldcore.py:1119: FutureWarning: use_inf_as_na option is deprecated and will be removed in a future version. Convert inf values to NaN before operating instead.\n",
      "  with pd.option_context('mode.use_inf_as_na', True):\n"
     ]
    },
    {
     "data": {
      "image/png": "[encoded data removed]",
      "text/plain": [
       "<Figure size 1200x600 with 1 Axes>"
      ]
     },
     "metadata": {},
     "output_type": "display_data"
    }
   ],
   "source": [
    "import matplotlib.ticker as mtick\n",
    "\n",
    "# Set a cap at $2M for visibility\n",
    "price_cap = min(df['price'].max(), 2000000)\n",
    "\n",
    "# Bins every $25K\n",
    "bins = range(0, int(price_cap) + 25000, 25000)\n",
    "\n",
    "plt.figure(figsize=(12, 6))\n",
    "sns.histplot(df['price'], bins=bins, kde=False)\n",
    "\n",
    "plt.title('Detailed Distribution of Home Prices')\n",
    "plt.xlabel('Price ($)')\n",
    "plt.ylabel('Number of Listings')\n",
    "\n",
    "# Set x-axis ticks every $50K\n",
    "xticks = range(0, int(price_cap) + 50000, 50000)\n",
    "plt.xticks(ticks=xticks, rotation=45)\n",
    "\n",
    "# Format x-axis labels as currency\n",
    "plt.gca().xaxis.set_major_formatter(mtick.StrMethodFormatter('${x:,.0f}'))\n",
    "\n",
    "plt.grid(axis='y')\n",
    "plt.tight_layout()\n",
    "plt.show()\n"
   ]
  },
  {
   "cell_type": "markdown",
   "id": "9ba298bf-d011-4c19-9f27-627f0cbca46a",
   "metadata": {},
   "source": [
    "# HOA vs Non-HOA Homes "
   ]
  },
  {
   "cell_type": "code",
   "execution_count": 49,
   "id": "b65afa72-3463-469a-b02b-ac3528819835",
   "metadata": {
    "tags": []
   },
   "outputs": [
    {
     "data": {
      "image/png": "[encoded data removed]",
      "text/plain": [
       "<Figure size 800x600 with 1 Axes>"
      ]
     },
     "metadata": {},
     "output_type": "display_data"
    }
   ],
   "source": [
    "# Step: Create HOA category: Yes/No\n",
    "df['hoa_flag'] = df['hoa'].apply(lambda x: 'Yes' if x > 0 else 'No')\n",
    "\n",
    "# Plot with improved formatting\n",
    "import matplotlib.ticker as ticker\n",
    "\n",
    "# Revert to original price axis with better y-axis ticks\n",
    "plt.figure(figsize=(8, 6))\n",
    "sns.boxplot(x='hoa_flag', y='price', data=df)\n",
    "plt.title('Listing Price Distribution: HOA vs Non-HOA Homes')\n",
    "plt.xlabel('HOA Present')\n",
    "medians = df.groupby('hoa_flag')['price'].median()\n",
    "for i, median in enumerate(medians):\n",
    "    plt.text(i, median + 10000, f'${median:,.0f}', ha='center', color='black', fontweight='bold')\n",
    "\n",
    "plt.ylabel('Listing Price ($)')\n",
    "\n",
    "\n",
    "# Format price in y-axis\n",
    "ax = plt.gca()\n",
    "ax.set_ylim(0, 1000000)  # Cap y-axis at $1M\n",
    "ax.yaxis.set_major_locator(ticker.MultipleLocator(50000))\n",
    "ax.yaxis.set_major_formatter(ticker.FuncFormatter(lambda x, _: f'${x:,.0f}'))\n",
    "\n",
    "plt.tight_layout()\n",
    "plt.show()\n"
   ]
  },
  {
   "cell_type": "markdown",
   "id": "75b8f979-dceb-4198-85e2-58dafe62e485",
   "metadata": {
    "tags": []
   },
   "source": [
    "### Housing price in general range between 375k - 800k without HOA while the majority of the property with HOA priced between 400k to 650k. "
   ]
  },
  {
   "cell_type": "markdown",
   "id": "292c037c-e1e2-45c8-bdaa-7ec8fb1778bf",
   "metadata": {
    "tags": []
   },
   "source": [
    "# Predictive Value modeling\n",
    "\n",
    "#### build a model to predict a house's price per square foot based on its features. That way, we can estimate residuals.\n",
    "\n",
    "#### To learn how features affect pricing, we start with linear regression, then we will try Random Forest Regressor and see if we can predict the price without assuming linearity.\n",
    "#### If random forest has better prediction than linear regression, we could consider using XGBoost. \n"
   ]
  },
  {
   "cell_type": "markdown",
   "id": "380ff033-546e-4d9e-ac8c-c69e2b064251",
   "metadata": {},
   "source": [
    "## Linear Regression\n",
    "\n",
    "#### Although not likely due to the nature of housing prices, we could try to see if there is a linear relationship between features in the dataframe and price_per_sqft."
   ]
  },
  {
   "cell_type": "code",
   "execution_count": 50,
   "id": "58d592a4-af9f-4360-ba00-889314a6dcac",
   "metadata": {
    "tags": []
   },
   "outputs": [],
   "source": [
    "# Extract ZIP code (5-digit) from the 'address' column\n",
    "df['zip'] = df['address'].str.extract(r'(\\d{5})')\n",
    "df['zip'] = df['zip'].astype(str)\n",
    "\n",
    "# Clean 'sqft' column: remove commas, extract numeric part, convert to float\n",
    "df['sqft'] = df['sqft'].astype(str)\n",
    "df['sqft'] = df['sqft'].str.replace(',', '', regex=False)\n",
    "df['sqft'] = df['sqft'].str.extract(r'(\\d+)')[0]\n",
    "df['sqft'] = df['sqft'].astype(float)\n",
    "\n",
    "# Clean 'beds' column: extract number (can include decimal), convert to float\n",
    "df['beds'] = df['beds'].astype(str)\n",
    "df['beds'] = df['beds'].str.extract(r'(\\d+\\.?\\d*)')[0]\n",
    "df['beds'] = df['beds'].astype(float)\n",
    "\n",
    "# Clean 'baths' column: extract number (can include decimal), convert to float\n",
    "df['baths'] = df['baths'].astype(str)\n",
    "df['baths'] = df['baths'].str.extract(r'(\\d+\\.?\\d*)')[0]\n",
    "df['baths'] = df['baths'].astype(float)\n",
    "\n",
    "# Clean 'hoa' column: remove $ and '/mo', convert to float\n",
    "df['hoa'] = df['hoa'].astype(str)\n",
    "df['hoa'] = df['hoa'].str.replace('$', '', regex=False)\n",
    "df['hoa'] = df['hoa'].str.replace('/mo', '', regex=False)\n",
    "df['hoa'] = df['hoa'].astype(float)\n"
   ]
  },
  {
   "cell_type": "code",
   "execution_count": 51,
   "id": "aa66c690-e2e4-47d7-aa82-ceeaf98b131b",
   "metadata": {
    "tags": []
   },
   "outputs": [
    {
     "name": "stdout",
     "output_type": "stream",
     "text": [
      "Feature matrix shape: (2118, 6)\n",
      "Target vector shape: (2118,)\n"
     ]
    }
   ],
   "source": [
    "# Select the relevant columns\n",
    "selected_features = ['sqft', 'beds', 'baths', 'year_built', 'hoa', 'zip']\n",
    "target = 'price_per_sqft'\n",
    "\n",
    "\n",
    "# Create a working copy of the dataframe\n",
    "df_model = df[selected_features +[target]].dropna()\n",
    "\n",
    "\n",
    "# Separate features and target\n",
    "X=df_model[selected_features]\n",
    "y=df_model[target]\n",
    "\n",
    "# Identify categorical columns to encode (zip is the only one)\n",
    "categorical_features = ['zip']\n",
    "numerical_features = ['sqft', 'beds', 'baths', 'year_built', 'hoa']\n",
    "\n",
    "# One-hot encode ZIP code\n",
    "X_encoded = pd.get_dummies(X, columns=categorical_features, prefix='zip')\n",
    "\n",
    "# Let’s preview the shape of your features\n",
    "print(\"Feature matrix shape:\", X.shape)\n",
    "print(\"Target vector shape:\", y.shape)"
   ]
  },
  {
   "cell_type": "code",
   "execution_count": 52,
   "id": "09ecbefb-cb4f-4f2c-978f-b574d4e9fbdc",
   "metadata": {
    "tags": []
   },
   "outputs": [],
   "source": [
    "from sklearn.model_selection import train_test_split\n",
    "from sklearn.linear_model import LinearRegression\n",
    "from sklearn.metrics import mean_squared_error, r2_score"
   ]
  },
  {
   "cell_type": "code",
   "execution_count": 53,
   "id": "963678e8-5174-41a0-a1f5-e579ff5aba88",
   "metadata": {
    "tags": []
   },
   "outputs": [
    {
     "name": "stdout",
     "output_type": "stream",
     "text": [
      "Training set size: (1694, 6)\n",
      "Testing set size: (424, 6)\n"
     ]
    }
   ],
   "source": [
    "# Split data into training and testing\n",
    "X_train, X_test, y_train, y_test = train_test_split(X,y, test_size=0.2, random_state=42) \n",
    "\n",
    "#X_train =80% of features from df\n",
    "#y_train = actual target (price_per_sqft) for the training data\n",
    "#X_test  = Unknown feature (trying to find out)\n",
    "#y_test = real prices for the test home\n",
    "\n",
    "# Check shapes\n",
    "print(\"Training set size:\", X_train.shape)\n",
    "print(\"Testing set size:\", X_test.shape)"
   ]
  },
  {
   "cell_type": "markdown",
   "id": "6bd9c709-0736-4362-9f6e-a0a0d03e123c",
   "metadata": {},
   "source": [
    "Train and Evalute model"
   ]
  },
  {
   "cell_type": "code",
   "execution_count": 63,
   "id": "221e3717-55f0-4233-abd0-960c68bb481e",
   "metadata": {
    "tags": []
   },
   "outputs": [
    {
     "name": "stdout",
     "output_type": "stream",
     "text": [
      "Linear Regression RMSE: 27.84\n",
      "Linear Regression R² Score: 0.430\n"
     ]
    }
   ],
   "source": [
    "linear_model = LinearRegression()\n",
    "linear_model.fit(X_train, y_train) # Model looks at X_train and try to find patterns that match y_train (price_per_sqft)\n",
    "y_pred = linear_model.predict(X_test) # y_pred = The model's prediction based on X-test\n",
    "\n",
    "rmse = np.sqrt(mean_squared_error(y_test, y_pred))\n",
    "r2=r2_score(y_test, y_pred)\n",
    "\n",
    "print(f\"Linear Regression RMSE: {rmse:.2f}\")\n",
    "print(f\"Linear Regression R² Score: {r2:.3f}\")"
   ]
  },
  {
   "cell_type": "markdown",
   "id": "12ebf589-6834-4c5c-b6b4-87bc77dd1ecf",
   "metadata": {
    "tags": []
   },
   "source": [
    "### Linear regression does not usually serve well in predicting for housing market simply because the market is very dynamic and linear relationship between features does not always correspond to prices.\n",
    "### However, linear regression provides us a baseline to compare with random forest model, which handles non-linear relationships and that works better for building a more accurate predicting model for housing prices."
   ]
  },
  {
   "cell_type": "code",
   "execution_count": null,
   "id": "c80532c7-f43b-4a1d-a3e6-109b004bf3c6",
   "metadata": {},
   "outputs": [],
   "source": []
  },
  {
   "cell_type": "markdown",
   "id": "e849c63d-8720-4c61-883f-c299b6982d6e",
   "metadata": {},
   "source": [
    "## Random Forest Modeling\n",
    "\n",
    "### We are examing whether if there features in a property like sqft, beds, bath, year_built, hoa and zip could affect price_per_sqft."
   ]
  },
  {
   "cell_type": "code",
   "execution_count": 64,
   "id": "3772dca8-c2b2-4c56-922f-03b1ea6738a6",
   "metadata": {
    "tags": []
   },
   "outputs": [
    {
     "name": "stdout",
     "output_type": "stream",
     "text": [
      "Random Forest RMSE: 13.64\n",
      "Random Forest R² Score: 0.863\n"
     ]
    },
    {
     "data": {
      "text/html": [
       "<div>\n",
       "<style scoped>\n",
       "    .dataframe tbody tr th:only-of-type {\n",
       "        vertical-align: middle;\n",
       "    }\n",
       "\n",
       "    .dataframe tbody tr th {\n",
       "        vertical-align: top;\n",
       "    }\n",
       "\n",
       "    .dataframe thead th {\n",
       "        text-align: right;\n",
       "    }\n",
       "</style>\n",
       "<table border=\"1\" class=\"dataframe\">\n",
       "  <thead>\n",
       "    <tr style=\"text-align: right;\">\n",
       "      <th></th>\n",
       "      <th>actual_price_per_sqft</th>\n",
       "      <th>predicted_price_per_sqft</th>\n",
       "      <th>avg_undervaluation</th>\n",
       "      <th>num_homes</th>\n",
       "    </tr>\n",
       "    <tr>\n",
       "      <th>zip</th>\n",
       "      <th></th>\n",
       "      <th></th>\n",
       "      <th></th>\n",
       "      <th></th>\n",
       "    </tr>\n",
       "  </thead>\n",
       "  <tbody>\n",
       "    <tr>\n",
       "      <th>85225</th>\n",
       "      <td>312.92</td>\n",
       "      <td>326.48</td>\n",
       "      <td>13.56</td>\n",
       "      <td>24</td>\n",
       "    </tr>\n",
       "    <tr>\n",
       "      <th>85249</th>\n",
       "      <td>267.17</td>\n",
       "      <td>275.77</td>\n",
       "      <td>8.60</td>\n",
       "      <td>47</td>\n",
       "    </tr>\n",
       "    <tr>\n",
       "      <th>85226</th>\n",
       "      <td>270.03</td>\n",
       "      <td>272.08</td>\n",
       "      <td>2.05</td>\n",
       "      <td>55</td>\n",
       "    </tr>\n",
       "    <tr>\n",
       "      <th>85286</th>\n",
       "      <td>263.95</td>\n",
       "      <td>264.51</td>\n",
       "      <td>0.55</td>\n",
       "      <td>18</td>\n",
       "    </tr>\n",
       "    <tr>\n",
       "      <th>85224</th>\n",
       "      <td>300.38</td>\n",
       "      <td>300.63</td>\n",
       "      <td>0.25</td>\n",
       "      <td>38</td>\n",
       "    </tr>\n",
       "    <tr>\n",
       "      <th>85204</th>\n",
       "      <td>212.31</td>\n",
       "      <td>212.31</td>\n",
       "      <td>0.00</td>\n",
       "      <td>12</td>\n",
       "    </tr>\n",
       "    <tr>\n",
       "      <th>85042</th>\n",
       "      <td>326.09</td>\n",
       "      <td>326.09</td>\n",
       "      <td>0.00</td>\n",
       "      <td>20</td>\n",
       "    </tr>\n",
       "    <tr>\n",
       "      <th>16235</th>\n",
       "      <td>311.14</td>\n",
       "      <td>311.14</td>\n",
       "      <td>0.00</td>\n",
       "      <td>27</td>\n",
       "    </tr>\n",
       "    <tr>\n",
       "      <th>85296</th>\n",
       "      <td>261.24</td>\n",
       "      <td>261.24</td>\n",
       "      <td>-0.00</td>\n",
       "      <td>16</td>\n",
       "    </tr>\n",
       "    <tr>\n",
       "      <th>85206</th>\n",
       "      <td>243.90</td>\n",
       "      <td>243.90</td>\n",
       "      <td>-0.00</td>\n",
       "      <td>23</td>\n",
       "    </tr>\n",
       "  </tbody>\n",
       "</table>\n",
       "</div>"
      ],
      "text/plain": [
       "       actual_price_per_sqft  predicted_price_per_sqft  avg_undervaluation  \\\n",
       "zip                                                                          \n",
       "85225                 312.92                    326.48               13.56   \n",
       "85249                 267.17                    275.77                8.60   \n",
       "85226                 270.03                    272.08                2.05   \n",
       "85286                 263.95                    264.51                0.55   \n",
       "85224                 300.38                    300.63                0.25   \n",
       "85204                 212.31                    212.31                0.00   \n",
       "85042                 326.09                    326.09                0.00   \n",
       "16235                 311.14                    311.14                0.00   \n",
       "85296                 261.24                    261.24               -0.00   \n",
       "85206                 243.90                    243.90               -0.00   \n",
       "\n",
       "       num_homes  \n",
       "zip               \n",
       "85225         24  \n",
       "85249         47  \n",
       "85226         55  \n",
       "85286         18  \n",
       "85224         38  \n",
       "85204         12  \n",
       "85042         20  \n",
       "16235         27  \n",
       "85296         16  \n",
       "85206         23  "
      ]
     },
     "metadata": {},
     "output_type": "display_data"
    }
   ],
   "source": [
    "from sklearn.ensemble import RandomForestRegressor\n",
    "\n",
    "# Clean and prepare data\n",
    "def clean_redfin_data(df):\n",
    "    # Extract ZIP code from 'address'\n",
    "    df['zip'] = df['address'].astype(str).str.extract(r'(\\d{5})')\n",
    "    \n",
    "    # Clean and convert numeric fields\n",
    "    def clean_numeric_column(col, remove_str = None):\n",
    "        col = col.astype(str)\n",
    "        if remove_str:\n",
    "            col = col.str.replace(remove_str, '', regex=False)\n",
    "        col = col.str.replace(',', '').str.extract(r'(\\d+\\.?\\d*)')[0]\n",
    "        return col.astype(float)\n",
    "    \n",
    "    df['sqft'] = clean_numeric_column(df['sqft'])\n",
    "    df['beds'] = clean_numeric_column(df['beds'])\n",
    "    df['baths'] = clean_numeric_column(df['baths'])\n",
    "    df['hoa'] = clean_numeric_column(df['hoa'], remove_str='/mo')\n",
    "    df['price'] = clean_numeric_column(df['price'])\n",
    "\n",
    "# Calculate price per sqft\n",
    "df['price_per_sqft'] = df['price'] / df['sqft']\n",
    "\n",
    "# Drop rows with missing or invalid values\n",
    "df = df.dropna(subset=['sqft', 'beds', 'baths', 'year_built', 'hoa', 'price', 'price_per_sqft', 'zip'])\n",
    "df = df[df['price_per_sqft'] > 0]\n",
    "\n",
    "# Select features and target\n",
    "features = ['sqft', 'beds', 'baths', 'year_built', 'hoa', 'zip']\n",
    "target = 'price_per_sqft'\n",
    "\n",
    "# One-hot encode ZIP code\n",
    "X = pd.get_dummies(df[features], columns=['zip'], prefix='zip')\n",
    "y = df[target]\n",
    "\n",
    "# Split data\n",
    "X_train, X_test, y_train, y_test = train_test_split(X, y, test_size=0.2, random_state=42)#80% X-train and y-train, 20% X-test, y-test\n",
    "\n",
    "# Train Random Forest model\n",
    "rf_model = RandomForestRegressor(n_estimators=300, random_state=50)\n",
    "rf_model.fit(X_train, y_train)\n",
    "\n",
    "# Predict and evaluate\n",
    "y_pred = rf_model.predict(X_test)\n",
    "rmse = np.sqrt(mean_squared_error(y_test, y_pred))\n",
    "r2 = r2_score(y_test, y_pred)\n",
    "\n",
    "print(f\"Random Forest RMSE: {rmse:.2f}\")\n",
    "print(f\"Random Forest R² Score: {r2:.3f}\")\n",
    "\n",
    "# Step: Identify undervalued homes\n",
    "investment_df = X_test.copy()\n",
    "investment_df['actual_price_per_sqft'] = y_test.values\n",
    "investment_df['predicted_price_per_sqft'] = y_pred\n",
    "investment_df['undervaluation'] = investment_df['predicted_price_per_sqft'] - investment_df['actual_price_per_sqft']\n",
    "\n",
    "# Restore readable ZIP column\n",
    "zip_columns = [col for col in investment_df.columns if col.startswith('zip_')]\n",
    "investment_df['zip'] = investment_df[zip_columns].idxmax(axis=1).str.replace('zip_', '')\n",
    "\n",
    "# Group by ZIP to find systemic undervaluation\n",
    "zip_agg = investment_df.groupby('zip').agg({\n",
    "    'actual_price_per_sqft': 'mean',\n",
    "    'predicted_price_per_sqft': 'mean',\n",
    "    'undervaluation': ['mean', 'count']\n",
    "})\n",
    "\n",
    "# Clean up column names\n",
    "zip_agg.columns = ['actual_price_per_sqft', 'predicted_price_per_sqft', 'avg_undervaluation', 'num_homes']\n",
    "zip_agg = zip_agg.sort_values(by='avg_undervaluation', ascending=False)\n",
    "\n",
    "# Display top undervalued ZIP codes\n",
    "pd.options.display.float_format = '{:.2f}'.format\n",
    "display(zip_agg.head(10))"
   ]
  },
  {
   "cell_type": "code",
   "execution_count": 65,
   "id": "dcac815f-2c8c-4346-87e7-02f706933a23",
   "metadata": {
    "tags": []
   },
   "outputs": [],
   "source": [
    "# RMSE13.46 and R2 score shows 87% prediction accuracy "
   ]
  },
  {
   "cell_type": "markdown",
   "id": "235bdf80-aae9-42ba-9a73-a5ffdf50ff78",
   "metadata": {},
   "source": [
    "# Findings: \n",
    "### Homes are undervalued by about $12.83 per sqft.\n",
    "### This makes them ideal for flipping or long-term appreciation.\n",
    "### For buyers: 85225 may offer better value for money right now. This helps first-time buyers or smart shoppers find good deals — not get priced out."
   ]
  },
  {
   "cell_type": "markdown",
   "id": "91057d65-e57c-4159-a6b2-e33ec38f17f9",
   "metadata": {},
   "source": [
    "# XGBoost Modeling for Nonlinear data"
   ]
  },
  {
   "cell_type": "code",
   "execution_count": 66,
   "id": "152ef9d7-a03e-4a73-be34-ccd3ad3c7b1a",
   "metadata": {
    "tags": []
   },
   "outputs": [],
   "source": [
    "import xgboost as xgb\n",
    "from sklearn.model_selection import train_test_split\n",
    "from sklearn.metrics import mean_squared_error, r2_score"
   ]
  },
  {
   "cell_type": "code",
   "execution_count": 71,
   "id": "b461ea55-0f63-4580-8f0c-de847fd81f0c",
   "metadata": {
    "tags": []
   },
   "outputs": [
    {
     "name": "stdout",
     "output_type": "stream",
     "text": [
      "XGBoost RMSE: 14.27\n",
      "XGBoost R² Score: 0.85\n"
     ]
    }
   ],
   "source": [
    "xgb_model = xgb.XGBRegressor(n_estimators=200, learning_rate=0.1, max_depth=5, random_state = 42)\n",
    "xgb_model.fit(X_train, y_train)\n",
    "\n",
    "y_pred_xgb= xgb_model.predict(X_test)\n",
    "xgb_rmse=np.sqrt(mean_squared_error(y_test, y_pred_xgb))\n",
    "xgb_r2=r2_score(y_test, y_pred_xgb)\n",
    "\n",
    "print(f\"XGBoost RMSE: {xgb_rmse:.2f}\") \n",
    "print(f\"XGBoost R² Score: {xgb_r2:.2f}\")"
   ]
  },
  {
   "cell_type": "code",
   "execution_count": 68,
   "id": "09790903-efba-40d7-8e92-3135cb361f90",
   "metadata": {
    "tags": []
   },
   "outputs": [
    {
     "data": {
      "text/plain": [
       "<Figure size 1000x800 with 0 Axes>"
      ]
     },
     "metadata": {},
     "output_type": "display_data"
    },
    {
     "data": {
      "image/png": "[encoded data removed]",
      "text/plain": [
       "<Figure size 640x480 with 1 Axes>"
      ]
     },
     "metadata": {},
     "output_type": "display_data"
    }
   ],
   "source": [
    "import matplotlib.pyplot as plt\n",
    "from xgboost import plot_importance\n",
    "\n",
    "# Plot feature importances\n",
    "plt.figure(figsize=(10, 8))\n",
    "plot_importance(xgb_model, max_num_features=15)\n",
    "plt.title(\"Top 15 Feature Importances (XGBoost)\")\n",
    "plt.show()"
   ]
  },
  {
   "cell_type": "markdown",
   "id": "4faf3058-6ea5-4f6a-ab5f-8107f7ea0d58",
   "metadata": {},
   "source": []
  },
  {
   "cell_type": "code",
   "execution_count": 69,
   "id": "bae2c565-b63d-41ad-964d-3824fbd1de6e",
   "metadata": {
    "tags": []
   },
   "outputs": [
    {
     "data": {
      "image/png": "[encoded data removed]",
      "text/plain": [
       "<Figure size 1200x600 with 1 Axes>"
      ]
     },
     "metadata": {},
     "output_type": "display_data"
    }
   ],
   "source": [
    "# ZIP-level undervaluation analysis\n",
    "investment_df = X_test.copy()\n",
    "investment_df['actual_price_per_sqft'] = y_test.values\n",
    "investment_df['predicted_price_per_sqft'] = y_pred_xgb\n",
    "investment_df['undervaluation'] = investment_df['predicted_price_per_sqft'] - investment_df['actual_price_per_sqft']\n",
    "\n",
    "# Restore ZIP info from one-hot encoded columns\n",
    "zip_columns = [col for col in investment_df.columns if col.startswith('zip_852')]\n",
    "investment_df['zip'] = investment_df[zip_columns].idxmax(axis=1).str.replace('zip_', '')\n",
    "\n",
    "#Group by ZIP\n",
    "zip_summary = investment_df.groupby('zip').agg({\n",
    "    'actual_price_per_sqft': 'mean',\n",
    "    'predicted_price_per_sqft': 'mean',\n",
    "    'undervaluation': 'mean'\n",
    "}).reset_index()\n",
    "zip_summary['num_listings'] = investment_df.groupby('zip').size().values\n",
    "zip_summary = zip_summary[zip_summary['num_listings'] >= 5]\n",
    "\n",
    "# Plot\n",
    "zip_summary['color'] = zip_summary['undervaluation'].apply(lambda x: 'blue' if x > 0 else 'red')\n",
    "plt.figure(figsize=(12, 6))\n",
    "sns.barplot(data=zip_summary, x='zip', y='undervaluation', palette=zip_summary['color'])\n",
    "plt.title(\"Avg. Undervaluation (Predicted - Actual Price/Sqft) by ZIP Code\")\n",
    "plt.ylabel(\"Undervaluation ($/sqft)\")\n",
    "plt.xlabel(\"ZIP Code\")\n",
    "plt.axhline(0, color='black', linestyle='--')\n",
    "plt.xticks(rotation=45)\n",
    "plt.tight_layout()\n",
    "plt.show()"
   ]
  },
  {
   "cell_type": "markdown",
   "id": "7a7b2e27-8249-4019-9ae7-a9add6107b86",
   "metadata": {
    "tags": []
   },
   "source": [
    "# TOP 5 undervalued and overvalued zipcode"
   ]
  },
  {
   "cell_type": "code",
   "execution_count": 70,
   "id": "1c9b72ce-bd34-4a85-a660-37983363e6e8",
   "metadata": {
    "tags": []
   },
   "outputs": [
    {
     "data": {
      "text/html": [
       "<div>\n",
       "<style scoped>\n",
       "    .dataframe tbody tr th:only-of-type {\n",
       "        vertical-align: middle;\n",
       "    }\n",
       "\n",
       "    .dataframe tbody tr th {\n",
       "        vertical-align: top;\n",
       "    }\n",
       "\n",
       "    .dataframe thead th {\n",
       "        text-align: right;\n",
       "    }\n",
       "</style>\n",
       "<table border=\"1\" class=\"dataframe\">\n",
       "  <thead>\n",
       "    <tr style=\"text-align: right;\">\n",
       "      <th></th>\n",
       "      <th>zip</th>\n",
       "      <th>undervaluation</th>\n",
       "      <th>num_listings</th>\n",
       "    </tr>\n",
       "  </thead>\n",
       "  <tbody>\n",
       "    <tr>\n",
       "      <th>4</th>\n",
       "      <td>85225</td>\n",
       "      <td>8.39</td>\n",
       "      <td>24</td>\n",
       "    </tr>\n",
       "    <tr>\n",
       "      <th>7</th>\n",
       "      <td>85249</td>\n",
       "      <td>7.49</td>\n",
       "      <td>47</td>\n",
       "    </tr>\n",
       "    <tr>\n",
       "      <th>5</th>\n",
       "      <td>85226</td>\n",
       "      <td>1.77</td>\n",
       "      <td>55</td>\n",
       "    </tr>\n",
       "    <tr>\n",
       "      <th>9</th>\n",
       "      <td>85286</td>\n",
       "      <td>0.36</td>\n",
       "      <td>18</td>\n",
       "    </tr>\n",
       "    <tr>\n",
       "      <th>8</th>\n",
       "      <td>85282</td>\n",
       "      <td>0.14</td>\n",
       "      <td>22</td>\n",
       "    </tr>\n",
       "  </tbody>\n",
       "</table>\n",
       "</div>"
      ],
      "text/plain": [
       "     zip  undervaluation  num_listings\n",
       "4  85225            8.39            24\n",
       "7  85249            7.49            47\n",
       "5  85226            1.77            55\n",
       "9  85286            0.36            18\n",
       "8  85282            0.14            22"
      ]
     },
     "metadata": {},
     "output_type": "display_data"
    },
    {
     "data": {
      "text/html": [
       "<div>\n",
       "<style scoped>\n",
       "    .dataframe tbody tr th:only-of-type {\n",
       "        vertical-align: middle;\n",
       "    }\n",
       "\n",
       "    .dataframe tbody tr th {\n",
       "        vertical-align: top;\n",
       "    }\n",
       "\n",
       "    .dataframe thead th {\n",
       "        text-align: right;\n",
       "    }\n",
       "</style>\n",
       "<table border=\"1\" class=\"dataframe\">\n",
       "  <thead>\n",
       "    <tr style=\"text-align: right;\">\n",
       "      <th></th>\n",
       "      <th>zip</th>\n",
       "      <th>undervaluation</th>\n",
       "      <th>num_listings</th>\n",
       "    </tr>\n",
       "  </thead>\n",
       "  <tbody>\n",
       "    <tr>\n",
       "      <th>0</th>\n",
       "      <td>85202</td>\n",
       "      <td>-0.14</td>\n",
       "      <td>134</td>\n",
       "    </tr>\n",
       "    <tr>\n",
       "      <th>10</th>\n",
       "      <td>85296</td>\n",
       "      <td>-0.13</td>\n",
       "      <td>16</td>\n",
       "    </tr>\n",
       "    <tr>\n",
       "      <th>6</th>\n",
       "      <td>85234</td>\n",
       "      <td>-0.03</td>\n",
       "      <td>35</td>\n",
       "    </tr>\n",
       "    <tr>\n",
       "      <th>3</th>\n",
       "      <td>85224</td>\n",
       "      <td>0.11</td>\n",
       "      <td>38</td>\n",
       "    </tr>\n",
       "    <tr>\n",
       "      <th>1</th>\n",
       "      <td>85204</td>\n",
       "      <td>0.12</td>\n",
       "      <td>12</td>\n",
       "    </tr>\n",
       "  </tbody>\n",
       "</table>\n",
       "</div>"
      ],
      "text/plain": [
       "      zip  undervaluation  num_listings\n",
       "0   85202           -0.14           134\n",
       "10  85296           -0.13            16\n",
       "6   85234           -0.03            35\n",
       "3   85224            0.11            38\n",
       "1   85204            0.12            12"
      ]
     },
     "metadata": {},
     "output_type": "display_data"
    },
    {
     "data": {
      "text/html": [
       "<div>\n",
       "<style scoped>\n",
       "    .dataframe tbody tr th:only-of-type {\n",
       "        vertical-align: middle;\n",
       "    }\n",
       "\n",
       "    .dataframe tbody tr th {\n",
       "        vertical-align: top;\n",
       "    }\n",
       "\n",
       "    .dataframe thead th {\n",
       "        text-align: right;\n",
       "    }\n",
       "</style>\n",
       "<table border=\"1\" class=\"dataframe\">\n",
       "  <thead>\n",
       "    <tr style=\"text-align: right;\">\n",
       "      <th></th>\n",
       "      <th>sqft</th>\n",
       "      <th>beds</th>\n",
       "      <th>baths</th>\n",
       "      <th>year_built</th>\n",
       "      <th>hoa</th>\n",
       "      <th>zip_11143</th>\n",
       "      <th>zip_12036</th>\n",
       "      <th>zip_12228</th>\n",
       "      <th>zip_12501</th>\n",
       "      <th>zip_12548</th>\n",
       "      <th>...</th>\n",
       "      <th>zip_85282</th>\n",
       "      <th>zip_85284</th>\n",
       "      <th>zip_85286</th>\n",
       "      <th>zip_85296</th>\n",
       "      <th>zip_85297</th>\n",
       "      <th>actual_price_per_sqft</th>\n",
       "      <th>predicted_price_per_sqft</th>\n",
       "      <th>undervaluation</th>\n",
       "      <th>zip</th>\n",
       "      <th>address</th>\n",
       "    </tr>\n",
       "  </thead>\n",
       "  <tbody>\n",
       "    <tr>\n",
       "      <th>196</th>\n",
       "      <td>1476.00</td>\n",
       "      <td>4.00</td>\n",
       "      <td>3.00</td>\n",
       "      <td>1947.00</td>\n",
       "      <td>0.00</td>\n",
       "      <td>False</td>\n",
       "      <td>False</td>\n",
       "      <td>False</td>\n",
       "      <td>False</td>\n",
       "      <td>False</td>\n",
       "      <td>...</td>\n",
       "      <td>False</td>\n",
       "      <td>False</td>\n",
       "      <td>False</td>\n",
       "      <td>False</td>\n",
       "      <td>False</td>\n",
       "      <td>315.04</td>\n",
       "      <td>448.76</td>\n",
       "      <td>133.72</td>\n",
       "      <td>85225</td>\n",
       "      <td>1298 E Buffalo St, Chandler, AZ 85225</td>\n",
       "    </tr>\n",
       "    <tr>\n",
       "      <th>216</th>\n",
       "      <td>1476.00</td>\n",
       "      <td>4.00</td>\n",
       "      <td>3.00</td>\n",
       "      <td>1947.00</td>\n",
       "      <td>0.00</td>\n",
       "      <td>False</td>\n",
       "      <td>False</td>\n",
       "      <td>False</td>\n",
       "      <td>False</td>\n",
       "      <td>False</td>\n",
       "      <td>...</td>\n",
       "      <td>False</td>\n",
       "      <td>False</td>\n",
       "      <td>False</td>\n",
       "      <td>False</td>\n",
       "      <td>False</td>\n",
       "      <td>315.04</td>\n",
       "      <td>448.76</td>\n",
       "      <td>133.72</td>\n",
       "      <td>85225</td>\n",
       "      <td>231 N Nash Way, Chandler, AZ 85225</td>\n",
       "    </tr>\n",
       "    <tr>\n",
       "      <th>194</th>\n",
       "      <td>1476.00</td>\n",
       "      <td>4.00</td>\n",
       "      <td>3.00</td>\n",
       "      <td>1947.00</td>\n",
       "      <td>0.00</td>\n",
       "      <td>False</td>\n",
       "      <td>False</td>\n",
       "      <td>False</td>\n",
       "      <td>False</td>\n",
       "      <td>False</td>\n",
       "      <td>...</td>\n",
       "      <td>False</td>\n",
       "      <td>False</td>\n",
       "      <td>False</td>\n",
       "      <td>False</td>\n",
       "      <td>False</td>\n",
       "      <td>315.04</td>\n",
       "      <td>448.76</td>\n",
       "      <td>133.72</td>\n",
       "      <td>85225</td>\n",
       "      <td>1903 E Jasper Dr, Chandler, AZ 85225</td>\n",
       "    </tr>\n",
       "    <tr>\n",
       "      <th>195</th>\n",
       "      <td>1476.00</td>\n",
       "      <td>4.00</td>\n",
       "      <td>3.00</td>\n",
       "      <td>1947.00</td>\n",
       "      <td>0.00</td>\n",
       "      <td>False</td>\n",
       "      <td>False</td>\n",
       "      <td>False</td>\n",
       "      <td>False</td>\n",
       "      <td>False</td>\n",
       "      <td>...</td>\n",
       "      <td>False</td>\n",
       "      <td>False</td>\n",
       "      <td>False</td>\n",
       "      <td>False</td>\n",
       "      <td>False</td>\n",
       "      <td>315.04</td>\n",
       "      <td>448.76</td>\n",
       "      <td>133.72</td>\n",
       "      <td>85225</td>\n",
       "      <td>240 N Monte Vista St, Chandler, AZ 85225</td>\n",
       "    </tr>\n",
       "    <tr>\n",
       "      <th>197</th>\n",
       "      <td>1476.00</td>\n",
       "      <td>4.00</td>\n",
       "      <td>3.00</td>\n",
       "      <td>1947.00</td>\n",
       "      <td>0.00</td>\n",
       "      <td>False</td>\n",
       "      <td>False</td>\n",
       "      <td>False</td>\n",
       "      <td>False</td>\n",
       "      <td>False</td>\n",
       "      <td>...</td>\n",
       "      <td>False</td>\n",
       "      <td>False</td>\n",
       "      <td>False</td>\n",
       "      <td>False</td>\n",
       "      <td>False</td>\n",
       "      <td>315.04</td>\n",
       "      <td>448.76</td>\n",
       "      <td>133.72</td>\n",
       "      <td>85225</td>\n",
       "      <td>914 W Morelos St, Chandler, AZ 85225</td>\n",
       "    </tr>\n",
       "  </tbody>\n",
       "</table>\n",
       "<p>5 rows × 34 columns</p>\n",
       "</div>"
      ],
      "text/plain": [
       "       sqft  beds  baths  year_built  hoa  zip_11143  zip_12036  zip_12228  \\\n",
       "196 1476.00  4.00   3.00     1947.00 0.00      False      False      False   \n",
       "216 1476.00  4.00   3.00     1947.00 0.00      False      False      False   \n",
       "194 1476.00  4.00   3.00     1947.00 0.00      False      False      False   \n",
       "195 1476.00  4.00   3.00     1947.00 0.00      False      False      False   \n",
       "197 1476.00  4.00   3.00     1947.00 0.00      False      False      False   \n",
       "\n",
       "     zip_12501  zip_12548  ...  zip_85282  zip_85284  zip_85286  zip_85296  \\\n",
       "196      False      False  ...      False      False      False      False   \n",
       "216      False      False  ...      False      False      False      False   \n",
       "194      False      False  ...      False      False      False      False   \n",
       "195      False      False  ...      False      False      False      False   \n",
       "197      False      False  ...      False      False      False      False   \n",
       "\n",
       "     zip_85297  actual_price_per_sqft  predicted_price_per_sqft  \\\n",
       "196      False                 315.04                    448.76   \n",
       "216      False                 315.04                    448.76   \n",
       "194      False                 315.04                    448.76   \n",
       "195      False                 315.04                    448.76   \n",
       "197      False                 315.04                    448.76   \n",
       "\n",
       "     undervaluation    zip                                   address  \n",
       "196          133.72  85225     1298 E Buffalo St, Chandler, AZ 85225  \n",
       "216          133.72  85225        231 N Nash Way, Chandler, AZ 85225  \n",
       "194          133.72  85225      1903 E Jasper Dr, Chandler, AZ 85225  \n",
       "195          133.72  85225  240 N Monte Vista St, Chandler, AZ 85225  \n",
       "197          133.72  85225      914 W Morelos St, Chandler, AZ 85225  \n",
       "\n",
       "[5 rows x 34 columns]"
      ]
     },
     "metadata": {},
     "output_type": "display_data"
    }
   ],
   "source": [
    "top_under = zip_summary.sort_values(by='undervaluation', ascending=False).head(5)\n",
    "top_over = zip_summary.sort_values(by='undervaluation').head(5)\n",
    "\n",
    "display(top_under[['zip', 'undervaluation', 'num_listings']])\n",
    "display(top_over[['zip', 'undervaluation', 'num_listings']])\n",
    "\n",
    "# Show homes in a top undervalued ZIP\n",
    "top_zip = top_under.iloc[0]['zip']\n",
    "undervalued_homes = investment_df[investment_df['zip'] == top_zip].copy()\n",
    "\n",
    "# Add address back in from original df (if needed)\n",
    "undervalued_homes = undervalued_homes.merge(df[['address', 'zip']], on='zip', how='left')\n",
    "\n",
    "# Show top 5\n",
    "display(undervalued_homes.sort_values(by='undervaluation', ascending=False).head(5))\n"
   ]
  },
  {
   "cell_type": "markdown",
   "id": "fc653ae8-9825-46ff-8151-7cd66ff21b97",
   "metadata": {},
   "source": [
    "\n",
    "\n"
   ]
  },
  {
   "cell_type": "markdown",
   "id": "17b48edb-d486-4c19-968e-13be054b3b1c",
   "metadata": {},
   "source": [
    "# Pricing Strategy"
   ]
  },
  {
   "cell_type": "markdown",
   "id": "a8b0b0ae-49ba-4181-b09a-11944a8c33c8",
   "metadata": {},
   "source": [
    "### Assuming a $5/sqft between actual and predcited price is significant, which is a conserative pricing strategy. This could avoid overpricing while gaining some value. This price set is only for analysis purpose, the actual price margin could be consulted with professionally licensed real estate agents. "
   ]
  },
  {
   "cell_type": "code",
   "execution_count": 62,
   "id": "9ed820f9-fe34-4872-a8bc-50dcc58aff7c",
   "metadata": {
    "tags": []
   },
   "outputs": [
    {
     "data": {
      "text/html": [
       "<div>\n",
       "<style scoped>\n",
       "    .dataframe tbody tr th:only-of-type {\n",
       "        vertical-align: middle;\n",
       "    }\n",
       "\n",
       "    .dataframe tbody tr th {\n",
       "        vertical-align: top;\n",
       "    }\n",
       "\n",
       "    .dataframe thead th {\n",
       "        text-align: right;\n",
       "    }\n",
       "</style>\n",
       "<table border=\"1\" class=\"dataframe\">\n",
       "  <thead>\n",
       "    <tr style=\"text-align: right;\">\n",
       "      <th></th>\n",
       "      <th>zip</th>\n",
       "      <th>actual_price_per_sqft</th>\n",
       "      <th>predicted_price_per_sqft</th>\n",
       "      <th>undervaluation</th>\n",
       "      <th>strategy</th>\n",
       "      <th>target_price_per_sqft</th>\n",
       "    </tr>\n",
       "  </thead>\n",
       "  <tbody>\n",
       "    <tr>\n",
       "      <th>245</th>\n",
       "      <td>85225</td>\n",
       "      <td>315.04</td>\n",
       "      <td>448.76</td>\n",
       "      <td>133.72</td>\n",
       "      <td>Raise price moderately (Undervalued)</td>\n",
       "      <td>320.04</td>\n",
       "    </tr>\n",
       "    <tr>\n",
       "      <th>33</th>\n",
       "      <td>85225</td>\n",
       "      <td>183.89</td>\n",
       "      <td>266.10</td>\n",
       "      <td>82.20</td>\n",
       "      <td>Raise price moderately (Undervalued)</td>\n",
       "      <td>188.89</td>\n",
       "    </tr>\n",
       "    <tr>\n",
       "      <th>284</th>\n",
       "      <td>85225</td>\n",
       "      <td>183.89</td>\n",
       "      <td>266.10</td>\n",
       "      <td>82.20</td>\n",
       "      <td>Raise price moderately (Undervalued)</td>\n",
       "      <td>188.89</td>\n",
       "    </tr>\n",
       "    <tr>\n",
       "      <th>242</th>\n",
       "      <td>85249</td>\n",
       "      <td>169.12</td>\n",
       "      <td>232.07</td>\n",
       "      <td>62.95</td>\n",
       "      <td>Raise price moderately (Undervalued)</td>\n",
       "      <td>174.12</td>\n",
       "    </tr>\n",
       "    <tr>\n",
       "      <th>115</th>\n",
       "      <td>85225</td>\n",
       "      <td>313.48</td>\n",
       "      <td>371.42</td>\n",
       "      <td>57.94</td>\n",
       "      <td>Raise price moderately (Undervalued)</td>\n",
       "      <td>318.48</td>\n",
       "    </tr>\n",
       "    <tr>\n",
       "      <th>238</th>\n",
       "      <td>85249</td>\n",
       "      <td>224.70</td>\n",
       "      <td>282.05</td>\n",
       "      <td>57.35</td>\n",
       "      <td>Raise price moderately (Undervalued)</td>\n",
       "      <td>229.70</td>\n",
       "    </tr>\n",
       "    <tr>\n",
       "      <th>207</th>\n",
       "      <td>85225</td>\n",
       "      <td>303.70</td>\n",
       "      <td>359.80</td>\n",
       "      <td>56.11</td>\n",
       "      <td>Raise price moderately (Undervalued)</td>\n",
       "      <td>308.70</td>\n",
       "    </tr>\n",
       "    <tr>\n",
       "      <th>202</th>\n",
       "      <td>85249</td>\n",
       "      <td>239.91</td>\n",
       "      <td>292.84</td>\n",
       "      <td>52.93</td>\n",
       "      <td>Raise price moderately (Undervalued)</td>\n",
       "      <td>244.91</td>\n",
       "    </tr>\n",
       "    <tr>\n",
       "      <th>167</th>\n",
       "      <td>85249</td>\n",
       "      <td>250.85</td>\n",
       "      <td>302.80</td>\n",
       "      <td>51.95</td>\n",
       "      <td>Raise price moderately (Undervalued)</td>\n",
       "      <td>255.85</td>\n",
       "    </tr>\n",
       "    <tr>\n",
       "      <th>69</th>\n",
       "      <td>85249</td>\n",
       "      <td>226.24</td>\n",
       "      <td>272.31</td>\n",
       "      <td>46.07</td>\n",
       "      <td>Raise price moderately (Undervalued)</td>\n",
       "      <td>231.24</td>\n",
       "    </tr>\n",
       "  </tbody>\n",
       "</table>\n",
       "</div>"
      ],
      "text/plain": [
       "       zip  actual_price_per_sqft  predicted_price_per_sqft  undervaluation  \\\n",
       "245  85225                 315.04                    448.76          133.72   \n",
       "33   85225                 183.89                    266.10           82.20   \n",
       "284  85225                 183.89                    266.10           82.20   \n",
       "242  85249                 169.12                    232.07           62.95   \n",
       "115  85225                 313.48                    371.42           57.94   \n",
       "238  85249                 224.70                    282.05           57.35   \n",
       "207  85225                 303.70                    359.80           56.11   \n",
       "202  85249                 239.91                    292.84           52.93   \n",
       "167  85249                 250.85                    302.80           51.95   \n",
       "69   85249                 226.24                    272.31           46.07   \n",
       "\n",
       "                                 strategy  target_price_per_sqft  \n",
       "245  Raise price moderately (Undervalued)                 320.04  \n",
       "33   Raise price moderately (Undervalued)                 188.89  \n",
       "284  Raise price moderately (Undervalued)                 188.89  \n",
       "242  Raise price moderately (Undervalued)                 174.12  \n",
       "115  Raise price moderately (Undervalued)                 318.48  \n",
       "238  Raise price moderately (Undervalued)                 229.70  \n",
       "207  Raise price moderately (Undervalued)                 308.70  \n",
       "202  Raise price moderately (Undervalued)                 244.91  \n",
       "167  Raise price moderately (Undervalued)                 255.85  \n",
       "69   Raise price moderately (Undervalued)                 231.24  "
      ]
     },
     "execution_count": 62,
     "metadata": {},
     "output_type": "execute_result"
    }
   ],
   "source": [
    "threshold = investment_df['undervaluation'].std()\n",
    "\n",
    "# Apply pricing strategy based on threshold\n",
    "def apply_pricing_strategy(row):\n",
    "    if row['undervaluation'] > threshold:\n",
    "        return 'Raise price moderately (Undervalued)'\n",
    "    elif row['undervaluation'] < -threshold:\n",
    "        return 'Consider lowering price (Overvalued)'\n",
    "    else:\n",
    "        return 'Price near market value (Fair)'\n",
    "\n",
    "investment_df['strategy'] = investment_df.apply(apply_pricing_strategy, axis=1)\n",
    "\n",
    "# Suggest target price/sqft based on strategy\n",
    "investment_df['target_price_per_sqft'] = investment_df.apply(\n",
    "    lambda row: row['actual_price_per_sqft'] + 5 if 'Raise' in row['strategy']\n",
    "    else row['actual_price_per_sqft'] - 5 if 'lowering' in row['strategy']\n",
    "    else row['predicted_price_per_sqft'], axis=1\n",
    ")\n",
    "\n",
    "# Display sample output\n",
    "investment_df[['zip', 'actual_price_per_sqft', 'predicted_price_per_sqft',\n",
    "               'undervaluation', 'strategy', 'target_price_per_sqft']].sort_values(\n",
    "    by='undervaluation', ascending=False).head(10)\n"
   ]
  },
  {
   "cell_type": "markdown",
   "id": "4e773c79-a63e-459a-a072-23caa350a4c9",
   "metadata": {},
   "source": [
    "# Summary:\n",
    "### As of July, 2025: \n",
    "\n",
    "### Buyers: Target overvalued ZIPs for negotiations; focus on homes where model suggests pricing is too high.\n",
    "\n",
    "### Sellers: In ZIPs like 85225 and 85249, market may tolerate a higher price — good places to raise listing prices.\n",
    "\n",
    "### Investors: Look for consistent undervaluation gaps in ZIPs with high listing count for resale or rental opportunities.\n",
    "\n",
    "### XGBoost model AND Random Forest shows that square footage is the most influential factor in determining home value per sqft. This suggests a pricing sensitivity to home size across Chandler. By identifying large homes that are priced below their predicted value per sqft, we can pinpoint properties that are likely undervalued — ideal for investor acquisition or buyer negotiation leverage.\""
   ]
  },
  {
   "cell_type": "code",
   "execution_count": null,
   "id": "8dadc560-0567-42c6-a9b8-49079373f0ac",
   "metadata": {},
   "outputs": [],
   "source": []
  }
 ],
 "metadata": {
  "kernelspec": {
   "display_name": "Python 3 (ipykernel)",
   "language": "python",
   "name": "python3"
  },
  "language_info": {
   "codemirror_mode": {
    "name": "ipython",
    "version": 3
   },
   "file_extension": ".py",
   "mimetype": "text/x-python",
   "name": "python",
   "nbconvert_exporter": "python",
   "pygments_lexer": "ipython3",
   "version": "3.11.5"
  }
 },
 "nbformat": 4,
 "nbformat_minor": 5
}
